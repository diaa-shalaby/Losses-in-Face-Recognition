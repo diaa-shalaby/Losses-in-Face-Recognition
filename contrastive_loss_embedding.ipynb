{
 "cells": [
  {
   "cell_type": "code",
   "execution_count": 1,
   "metadata": {},
   "outputs": [],
   "source": [
    "import numpy as np\n",
    "\n",
    "from torchvision.datasets import ImageFolder\n",
    "from torchvision import transforms\n",
    "\n",
    "from facenet_pytorch import MTCNN, fixed_image_standardization, training, extract_face\n",
    "from facenet_pytorch import InceptionResnetV1, training\n",
    "from torch.optim import Adam\n",
    "import utils\n",
    "\n",
    "from torch.utils.data import DataLoader, SubsetRandomSampler, SequentialSampler\n",
    "from triplets_loader import TripletsDataset\n",
    "from losses.triplet_loss import TripletLoss\n",
    "\n",
    "import tqdm\n",
    "import torch\n",
    "\n",
    "data_dir = 'lfw_cropped'\n",
    "device = 'cuda' if torch.cuda.is_available() else 'cpu'\n",
    "batch_size = 32"
   ]
  },
  {
   "attachments": {},
   "cell_type": "markdown",
   "metadata": {},
   "source": [
    "### Load the Dataset"
   ]
  },
  {
   "cell_type": "code",
   "execution_count": 3,
   "metadata": {},
   "outputs": [],
   "source": [
    "from losses.contrastive_loss import ContrastiveLoss, ContrastiveDataset\n",
    "\n",
    "\n",
    "dataset = ContrastiveDataset(csv_file='lfw_cropped_annots.csv')\n",
    "loader = DataLoader(dataset, \n",
    "                    num_workers=4,\n",
    "                    pin_memory=True,\n",
    "                    batch_size=batch_size, \n",
    "                    shuffle=True)"
   ]
  },
  {
   "attachments": {},
   "cell_type": "markdown",
   "metadata": {},
   "source": [
    "### Define the model, loss and optimizer"
   ]
  },
  {
   "cell_type": "code",
   "execution_count": 4,
   "metadata": {},
   "outputs": [],
   "source": [
    "# Create an inception resnet (in train mode):\n",
    "resnet = InceptionResnetV1(\n",
    "    classify=False,\n",
    "    num_classes=len(dataset.class_to_idx)\n",
    "    ).to(device)\n",
    "\n",
    "# Using Adam optimizer\n",
    "optimizer = torch.optim.AdamW(resnet.parameters(), lr=0.001)\n",
    "scheduler = torch.optim.lr_scheduler.MultiStepLR(optimizer, [5, 10])\n",
    "\n",
    "metrics = {\n",
    "    'fps': training.BatchTimer(),\n",
    "    'acc': training.accuracy\n",
    "}"
   ]
  },
  {
   "cell_type": "code",
   "execution_count": 5,
   "metadata": {},
   "outputs": [
    {
     "data": {
      "text/plain": [
       "tensor(1.2647, device='cuda:0', grad_fn=<MeanBackward0>)"
      ]
     },
     "execution_count": 5,
     "metadata": {},
     "output_type": "execute_result"
    }
   ],
   "source": [
    "torch.cuda.empty_cache()\n",
    "contras_loss = ContrastiveLoss().to(device)\n",
    "for i, (anchor, target_img, label) in enumerate(loader):\n",
    "    anchor = anchor.to(device)\n",
    "    target_img = target_img.to(device)\n",
    "    embeddings_anchor = resnet(anchor)\n",
    "    embeddings_target = resnet(target_img)\n",
    "    label = label.to(device)\n",
    "    loss = contras_loss(embeddings_anchor, embeddings_target, label)\n",
    "    break\n",
    "\n",
    "loss"
   ]
  },
  {
   "cell_type": "code",
   "execution_count": 7,
   "metadata": {},
   "outputs": [
    {
     "name": "stdout",
     "output_type": "stream",
     "text": [
      "Epoch: 1, Loss: 0.8118770112143991\n"
     ]
    },
    {
     "ename": "KeyboardInterrupt",
     "evalue": "",
     "output_type": "error",
     "traceback": [
      "\u001b[0;31m---------------------------------------------------------------------------\u001b[0m",
      "\u001b[0;31mKeyboardInterrupt\u001b[0m                         Traceback (most recent call last)",
      "Cell \u001b[0;32mIn[7], line 17\u001b[0m\n\u001b[1;32m     15\u001b[0m     loss\u001b[39m.\u001b[39mbackward()\n\u001b[1;32m     16\u001b[0m     optimizer\u001b[39m.\u001b[39mstep()\n\u001b[0;32m---> 17\u001b[0m     train_loss \u001b[39m+\u001b[39m\u001b[39m=\u001b[39m loss\u001b[39m.\u001b[39;49mitem() \n\u001b[1;32m     18\u001b[0m     train_num \u001b[39m+\u001b[39m\u001b[39m=\u001b[39m \u001b[39m1\u001b[39m\n\u001b[1;32m     20\u001b[0m scheduler\u001b[39m.\u001b[39mstep()\n",
      "\u001b[0;31mKeyboardInterrupt\u001b[0m: "
     ]
    }
   ],
   "source": [
    "for epoch in range(1, 3):\n",
    "    resnet.train()\n",
    "    train_loss = 0.0\n",
    "    train_num = 0\n",
    "    for i, (anchor, target_img, label) in enumerate(loader):\n",
    "        anchor = anchor.to(device)\n",
    "        target_img = target_img.to(device)\n",
    "        \n",
    "        # Compute embeddings\n",
    "        embeddings_anchor = resnet(anchor)\n",
    "        embeddings_target = resnet(target_img)\n",
    "        \n",
    "        label = label.to(device)\n",
    "        loss = contras_loss(embeddings_anchor, embeddings_target, label)\n",
    "        loss.backward()\n",
    "        optimizer.step()\n",
    "        train_loss += loss.item() \n",
    "        train_num += 1\n",
    "    \n",
    "    scheduler.step()\n",
    "    train_loss /= train_num\n",
    "    print(\"Epoch: {}, Loss: {}\".format(epoch, train_loss))"
   ]
  },
  {
   "cell_type": "code",
   "execution_count": null,
   "metadata": {},
   "outputs": [],
   "source": [
    "# Save model\n",
    "torch.save(resnet, 'resnet_contrLoss_17_epochs.pt')\n",
    "\n",
    "# Remove to free up GPU memory\n",
    "del resnet\n",
    "torch.cuda.empty_cache()"
   ]
  }
 ],
 "metadata": {
  "kernelspec": {
   "display_name": "torch",
   "language": "python",
   "name": "python3"
  },
  "language_info": {
   "codemirror_mode": {
    "name": "ipython",
    "version": 3
   },
   "file_extension": ".py",
   "mimetype": "text/x-python",
   "name": "python",
   "nbconvert_exporter": "python",
   "pygments_lexer": "ipython3",
   "version": "3.10.10"
  },
  "orig_nbformat": 4
 },
 "nbformat": 4,
 "nbformat_minor": 2
}
