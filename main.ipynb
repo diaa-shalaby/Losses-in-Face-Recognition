{
 "cells": [
  {
   "cell_type": "markdown",
   "metadata": {
    "collapsed": false
   },
   "source": [
    "### 1. Importing Libraries"
   ]
  },
  {
   "cell_type": "code",
   "execution_count": 1,
   "metadata": {
    "ExecuteTime": {
     "start_time": "2023-04-14T05:25:12.503188Z",
     "end_time": "2023-04-14T05:25:43.965360Z"
    },
    "collapsed": false
   },
   "outputs": [],
   "source": [
    "import os\n",
    "import glob\n",
    "import random\n",
    "import time\n",
    "import numpy as np\n",
    "import matplotlib.pyplot as plt\n",
    "%matplotlib inline\n",
    "\n",
    "import torch\n",
    "from torchvision.datasets import ImageFolder\n",
    "import torchvision.transforms as transforms\n",
    "\n",
    "import utils"
   ]
  },
  {
   "cell_type": "markdown",
   "metadata": {
    "collapsed": false
   },
   "source": [
    "### Loading Data\n",
    "Use the `ImageFolder` class to load the data.\n",
    "The `ImageFolder` class will automatically label the images based on the folder they are in. The folder names are the labels.\n",
    "The `ImageFolder` class will also automatically resize the images to the size specified in the `transform` argument.\n",
    "The `ImageFolder` class will also automatically convert the images to PyTorch tensors."
   ]
  },
  {
   "cell_type": "code",
   "execution_count": 3,
   "outputs": [
    {
     "data": {
      "text/plain": "'/home/diaa/My_PRinAI'"
     },
     "execution_count": 3,
     "metadata": {},
     "output_type": "execute_result"
    }
   ],
   "source": [
    "os.getcwd()"
   ],
   "metadata": {
    "collapsed": false,
    "ExecuteTime": {
     "start_time": "2023-04-14T05:26:19.955117Z",
     "end_time": "2023-04-14T05:26:19.981961Z"
    }
   }
  },
  {
   "cell_type": "code",
   "execution_count": 6,
   "metadata": {
    "ExecuteTime": {
     "start_time": "2023-04-14T05:27:30.739270Z",
     "end_time": "2023-04-14T05:27:31.058029Z"
    },
    "collapsed": false
   },
   "outputs": [
    {
     "name": "stdout",
     "output_type": "stream",
     "text": [
      "There are 5749 classes.\n",
      "There are 13233 images.\n"
     ]
    }
   ],
   "source": [
    "data_dir = './lfw'\n",
    "\n",
    "dataset = ImageFolder(data_dir, transforms.Compose([\n",
    "                                                    transforms.Resize((64, 64)), # Resize the image to 250x250\n",
    "                                                    transforms.ToTensor() ]))      # Converts the image to a tensor\n",
    "\n",
    "print(f'There are {len(os.listdir(data_dir))} classes.')\n",
    "print(f'There are {len(dataset)} images.')"
   ]
  },
  {
   "cell_type": "markdown",
   "metadata": {
    "collapsed": false
   },
   "source": [
    "**Get the class names.**"
   ]
  },
  {
   "cell_type": "code",
   "execution_count": 7,
   "metadata": {
    "ExecuteTime": {
     "start_time": "2023-04-14T05:27:31.271420Z",
     "end_time": "2023-04-14T05:27:31.344673Z"
    },
    "collapsed": false
   },
   "outputs": [],
   "source": [
    "class_names = dataset.classes\n",
    "class_labels = {i: class_names[i] for i in range(len(class_names))}\n",
    "\n",
    "class_dict = {v: k for k, v in class_labels.items()}"
   ]
  },
  {
   "cell_type": "code",
   "execution_count": 8,
   "metadata": {
    "ExecuteTime": {
     "start_time": "2023-04-14T05:27:31.511419Z",
     "end_time": "2023-04-14T05:27:31.584476Z"
    }
   },
   "outputs": [],
   "source": [
    "# import pandas as pd\n",
    "\n",
    "# label_counts = pd.Series(dataset.targets).value_counts().sort_index()\n",
    "\n",
    "# dist_class = {label: count for label, count in zip(dataset.classes, label_counts)}\n",
    "\n",
    "# dist_class"
   ]
  },
  {
   "cell_type": "markdown",
   "metadata": {
    "collapsed": false
   },
   "source": [
    "**Visualize one image.**"
   ]
  },
  {
   "cell_type": "code",
   "execution_count": 9,
   "metadata": {
    "ExecuteTime": {
     "start_time": "2023-04-14T05:27:32.275622Z",
     "end_time": "2023-04-14T05:27:32.653353Z"
    },
    "collapsed": false
   },
   "outputs": [
    {
     "data": {
      "text/plain": "Text(0.5, 1.0, 'AJ_Cook')"
     },
     "execution_count": 9,
     "metadata": {},
     "output_type": "execute_result"
    },
    {
     "data": {
      "text/plain": "<Figure size 640x480 with 1 Axes>",
      "image/png": "[encoded data removed]"
     },
     "metadata": {},
     "output_type": "display_data"
    }
   ],
   "source": [
    "img, label = dataset[0]\n",
    "plt.imshow(img.permute(1, 2, 0))\n",
    "plt.title(class_labels[label])"
   ]
  },
  {
   "cell_type": "markdown",
   "metadata": {
    "collapsed": false
   },
   "source": [
    "**Split the data into training and validation sets.**"
   ]
  },
  {
   "cell_type": "code",
   "execution_count": 10,
   "metadata": {
    "ExecuteTime": {
     "start_time": "2023-04-14T05:27:35.314851Z",
     "end_time": "2023-04-14T05:27:35.388835Z"
    },
    "collapsed": false
   },
   "outputs": [
    {
     "name": "stdout",
     "output_type": "stream",
     "text": [
      "Training size: 10586\n",
      "Validation size: 1984\n",
      "test size: 663\n"
     ]
    }
   ],
   "source": [
    "from torch.utils.data import random_split\n",
    "\n",
    "train_size = int(0.8 * len(dataset))\n",
    "val_size = int(0.15 * len(dataset))\n",
    "test_size = len(dataset) - train_size - val_size  # 0.02 * len(dataset)\n",
    "\n",
    "print(f'Training size: {train_size}')\n",
    "print(f'Validation size: {val_size}')\n",
    "print(f'test size: {test_size}')\n",
    "\n",
    "train_ds, val_ds, test_ds = random_split(dataset, [train_size, val_size, test_size])"
   ]
  },
  {
   "cell_type": "markdown",
   "metadata": {
    "collapsed": false
   },
   "source": [
    "**Create data loaders.**"
   ]
  },
  {
   "cell_type": "code",
   "execution_count": 7,
   "metadata": {
    "ExecuteTime": {
     "end_time": "2023-04-13T04:21:51.052279Z",
     "start_time": "2023-04-13T04:21:51.050102Z"
    },
    "collapsed": false
   },
   "outputs": [],
   "source": [
    "from torch.utils.data import DataLoader\n",
    "\n",
    "\n",
    "batch_size = 96\n",
    "\n",
    "train_loader = DataLoader(train_ds,\n",
    "                           batch_size,\n",
    "                           shuffle=True,\n",
    "                           num_workers=4,\n",
    "                           pin_memory=True)\n",
    "\n",
    "val_loader = DataLoader(val_ds,\n",
    "                        batch_size,\n",
    "                        num_workers=4,\n",
    "                        pin_memory=True)\n",
    "\n",
    "test_loader = DataLoader(test_ds,\n",
    "                         batch_size,\n",
    "                         num_workers=4,\n",
    "                         pin_memory=True)"
   ]
  },
  {
   "cell_type": "code",
   "execution_count": 8,
   "metadata": {
    "ExecuteTime": {
     "end_time": "2023-04-13T04:21:51.132223Z",
     "start_time": "2023-04-13T04:21:51.081842Z"
    },
    "collapsed": false
   },
   "outputs": [],
   "source": [
    "device = utils.get_default_device()  # Defaults to GPU if available, else CPU\n",
    "\n",
    "# Wrap dataloader to move data to the device selected above\n",
    "train_loader = utils.DeviceDataLoader(train_loader, device)\n",
    "val_loader =  utils.DeviceDataLoader(val_loader, device)\n",
    "test_loader = utils.DeviceDataLoader(test_loader, device)"
   ]
  },
  {
   "attachments": {},
   "cell_type": "markdown",
   "metadata": {
    "collapsed": false
   },
   "source": [
    "### 2. Defining the Model\n",
    "We will use a handwritten ResNet-9 model."
   ]
  },
  {
   "cell_type": "code",
   "execution_count": 10,
   "metadata": {
    "ExecuteTime": {
     "end_time": "2023-04-12T05:45:09.908239Z",
     "start_time": "2023-04-12T05:45:09.755213Z"
    },
    "collapsed": false
   },
   "outputs": [
    {
     "name": "stdout",
     "output_type": "stream",
     "text": [
      "images.shape: torch.Size([96, 3, 64, 64])\n",
      "out.shape: torch.Size([96, 5749])\n",
      "out.device: cuda:0\n"
     ]
    }
   ],
   "source": [
    "from models.resnet9 import ResNet9\n",
    "\n",
    "\n",
    "# Input channels = 3 (RGB), output channels = (number of classes)\n",
    "model = ResNet9(3, len(class_names))\n",
    "\n",
    "model = utils.to_device(model, device)\n",
    "\n",
    "# Pass one batch of data through the model to see the output shape\n",
    "for images, labels in train_loader:\n",
    "    print('images.shape:', images.shape)\n",
    "    out = model(images)\n",
    "    print('out.shape:', out.shape)\n",
    "    print('out.device:', out.device)\n",
    "    break"
   ]
  },
  {
   "cell_type": "code",
   "execution_count": null,
   "metadata": {},
   "outputs": [
    {
     "name": "stdout",
     "output_type": "stream",
     "text": [
      "Baseline accuracy: 0.050%\n"
     ]
    }
   ],
   "source": [
    "# Establishing a baseline accuracy\n",
    "baseline_acc = utils.evaluate(model, val_loader)\n",
    "\n",
    "print(f'Baseline accuracy: {baseline_acc[\"val_acc\"]*100:.3f}%')"
   ]
  },
  {
   "cell_type": "code",
   "execution_count": null,
   "metadata": {},
   "outputs": [],
   "source": [
    "start_time = time.perf_counter()\n",
    "history = [baseline_acc] + utils.fit(epochs=2, lr=1e-3, \n",
    "                                     model=model, \n",
    "                                     train_loader=train_loader, \n",
    "                                     val_loader=val_loader, \n",
    "                                     opt_func=torch.optim.Adam)\n",
    "\n",
    "print('\\nTraining time: ', time.perf_counter() - start_time)"
   ]
  },
  {
   "cell_type": "code",
   "execution_count": null,
   "metadata": {},
   "outputs": [
    {
     "name": "stdout",
     "output_type": "stream",
     "text": [
      "Epoch [0], last_lr: 0.00081, train_loss: 7.9236, val_loss: 8.4919, val_acc: 0.0407\n",
      "Epoch [1], last_lr: 0.00000, train_loss: 7.5785, val_loss: 8.8283, val_acc: 0.0427\n",
      "\n",
      "Training time:  76.57902316999753\n"
     ]
    }
   ],
   "source": [
    "start_time = time.perf_counter()\n",
    "history = history + utils.fit(epochs=2, lr=1e-3, \n",
    "                              model=model, \n",
    "                              train_loader=train_loader, \n",
    "                              val_loader=val_loader, \n",
    "                              opt_func=torch.optim.AdamW)\n",
    "\n",
    "print('\\nTraining time: ', time.perf_counter() - start_time)"
   ]
  },
  {
   "attachments": {},
   "cell_type": "markdown",
   "metadata": {},
   "source": [
    "### Torchvision Model"
   ]
  },
  {
   "cell_type": "code",
   "execution_count": 14,
   "metadata": {},
   "outputs": [
    {
     "name": "stderr",
     "output_type": "stream",
     "text": [
      "Downloading: \"https://download.pytorch.org/models/resnet50-11ad3fa6.pth\" to /home/diaa/.cache/torch/hub/checkpoints/resnet50-11ad3fa6.pth\n",
      "100.0%\n"
     ]
    },
    {
     "name": "stdout",
     "output_type": "stream",
     "text": [
      "images.shape: torch.Size([96, 3, 64, 64])\n",
      "out.shape: torch.Size([96, 5749])\n",
      "out.device: cuda:0\n"
     ]
    }
   ],
   "source": [
    "from torchvision.models import resnet50, ResNet50_Weights\n",
    "\n",
    "model_torch = resnet50(weights=ResNet50_Weights.DEFAULT)\n",
    "model_torch.fc = nn.Linear(model_torch.fc.in_features, len(dataset.classes))\n",
    "model_torch = utils.to_device(model_torch, device)\n",
    "\n",
    "for images, labels in train_loader:\n",
    "    print('images.shape:', images.shape)\n",
    "    out = model_torch(images)\n",
    "    print('out.shape:', out.shape)\n",
    "    print('out.device:', out.device)\n",
    "    break"
   ]
  },
  {
   "attachments": {},
   "cell_type": "markdown",
   "metadata": {},
   "source": [
    "### Train the model"
   ]
  },
  {
   "attachments": {},
   "cell_type": "markdown",
   "metadata": {},
   "source": [
    "* We can see that the classes are very inbalanced with one class 'George_W_Bush' holding about 50% of the enteries.\n",
    "* This explains the relatively high baseline accuracy achieved by only one validation epoch"
   ]
  },
  {
   "cell_type": "code",
   "execution_count": 15,
   "metadata": {},
   "outputs": [],
   "source": [
    "from torch.nn import functional as F\n",
    "\n",
    "\n",
    "def accuracy(preds, labels):\n",
    "    \"\"\"Calculate accuracy\"\"\"\n",
    "    _, preds = torch.max(preds, dim=1)\n",
    "    return torch.tensor(torch.sum(preds == labels).item() / len(preds))\n",
    "\n",
    "\n",
    "def validation_step(model, batch):\n",
    "    \"\"\"Calculate loss and accuracy for a batch of validation data\"\"\"\n",
    "    images, labels = batch\n",
    "    out = model(images)  # Generate predictions\n",
    "    loss = F.cross_entropy(out, labels)  # Calculate loss\n",
    "    acc = accuracy(out, labels)  # Calculate accuracy\n",
    "    return {'val_loss': loss.detach(), 'val_acc': acc}\n",
    "\n",
    "\n",
    "def validation_epoch_end(outputs):\n",
    "    batch_losses = [x['val_loss'] for x in outputs]\n",
    "    epoch_loss = torch.stack(batch_losses).mean()  # Combine losses\n",
    "    batch_accs = [x['val_acc'] for x in outputs]\n",
    "    epoch_acc = torch.stack(batch_accs).mean()  # Combine accuracies\n",
    "    return {'val_loss': epoch_loss.item(), 'val_acc': epoch_acc.item()}\n",
    "\n",
    "\n",
    "def epoch_end(epoch, result):\n",
    "    print(\"Epoch [{}], last_lr: {:.5f}, train_loss: {:.4f}, val_loss: {:.4f}, val_acc: {:.4f}\".format(\n",
    "        epoch, result['lrs'][-1], result['train_loss'], result['val_loss'], result['val_acc']))\n",
    "\n",
    "\n",
    "def evaluate_torch_model(model, val_loader):\n",
    "    \"\"\"Evaluate the model's performance on the validation set\"\"\"\n",
    "    outputs = [validation_step(model, batch) for batch in val_loader]\n",
    "    return validation_epoch_end(outputs)\n",
    "\n",
    "def fit_torch_model(epochs, lr, model, train_loader, val_loader, opt_func=torch.optim.SGD):\n",
    "    \"\"\"Train the model using gradient descent\"\"\"\n",
    "    history = []\n",
    "    optimizer = opt_func(model.parameters(), lr)\n",
    "    scheduler = torch.optim.lr_scheduler.OneCycleLR(optimizer, max_lr=lr, epochs=epochs,\n",
    "                                                    steps_per_epoch=len(train_loader))\n",
    "    \n",
    "    for epoch in range(epochs):\n",
    "        # Training Phase\n",
    "        model.train()\n",
    "        train_losses = []\n",
    "        lrs = []\n",
    "        for batch in train_loader:\n",
    "            with torch.cuda.amp.autocast():\n",
    "                images, labels = batch\n",
    "                out = model(images)  # Generate predictions\n",
    "                loss = F.cross_entropy(out, labels)  # Calculate loss\n",
    "                \n",
    "            train_losses.append(loss)\n",
    "            loss.backward()\n",
    "            optimizer.step()\n",
    "            optimizer.zero_grad()\n",
    "            lrs.append(optimizer.param_groups[0]['lr'])\n",
    "            scheduler.step()\n",
    "\n",
    "        # Validation phase\n",
    "        result = evaluate_torch_model(model, val_loader)\n",
    "        result['train_loss'] = torch.stack(train_losses).mean().item()\n",
    "        result['lrs'] = lrs\n",
    "        epoch_end(epoch, result)\n",
    "        history.append(result)\n",
    "        \n",
    "    return history"
   ]
  },
  {
   "cell_type": "code",
   "execution_count": 21,
   "metadata": {},
   "outputs": [
    {
     "name": "stdout",
     "output_type": "stream",
     "text": [
      "Epoch [0], last_lr: 0.00001, train_loss: 0.0006, val_loss: 8.7339, val_acc: 0.2036\n",
      "Epoch [1], last_lr: 0.00001, train_loss: 0.0006, val_loss: 8.7271, val_acc: 0.2016\n",
      "Epoch [2], last_lr: 0.00002, train_loss: 0.0006, val_loss: 8.7254, val_acc: 0.2026\n",
      "Epoch [3], last_lr: 0.00003, train_loss: 0.0010, val_loss: 8.6289, val_acc: 0.2036\n",
      "Epoch [4], last_lr: 0.00004, train_loss: 0.0006, val_loss: 8.5305, val_acc: 0.2041\n",
      "Epoch [5], last_lr: 0.00005, train_loss: 0.0010, val_loss: 8.4357, val_acc: 0.2026\n",
      "Epoch [6], last_lr: 0.00006, train_loss: 0.0012, val_loss: 8.3318, val_acc: 0.2046\n",
      "Epoch [7], last_lr: 0.00008, train_loss: 0.0017, val_loss: 8.3161, val_acc: 0.2076\n",
      "Epoch [8], last_lr: 0.00009, train_loss: 0.0019, val_loss: 8.3781, val_acc: 0.2011\n",
      "Epoch [9], last_lr: 0.00009, train_loss: 0.0015, val_loss: 7.8146, val_acc: 0.1997\n",
      "Epoch [10], last_lr: 0.00010, train_loss: 0.0225, val_loss: 8.6421, val_acc: 0.1992\n",
      "Epoch [11], last_lr: 0.00010, train_loss: 0.0076, val_loss: 8.5661, val_acc: 0.2101\n",
      "Epoch [12], last_lr: 0.00010, train_loss: 0.0026, val_loss: 8.5760, val_acc: 0.2145\n",
      "Epoch [13], last_lr: 0.00010, train_loss: 0.0009, val_loss: 8.6043, val_acc: 0.2130\n",
      "Epoch [14], last_lr: 0.00010, train_loss: 0.0007, val_loss: 8.6137, val_acc: 0.2130\n",
      "Epoch [15], last_lr: 0.00010, train_loss: 0.0007, val_loss: 8.6227, val_acc: 0.2140\n",
      "Epoch [16], last_lr: 0.00009, train_loss: 0.0006, val_loss: 8.6215, val_acc: 0.2150\n",
      "Epoch [17], last_lr: 0.00009, train_loss: 0.0006, val_loss: 8.6260, val_acc: 0.2150\n",
      "Epoch [18], last_lr: 0.00009, train_loss: 0.0006, val_loss: 8.6413, val_acc: 0.2148\n",
      "Epoch [19], last_lr: 0.00008, train_loss: 0.0006, val_loss: 8.6407, val_acc: 0.2163\n",
      "Epoch [20], last_lr: 0.00008, train_loss: 0.0005, val_loss: 8.6385, val_acc: 0.2168\n",
      "Epoch [21], last_lr: 0.00007, train_loss: 0.0007, val_loss: 8.6426, val_acc: 0.2173\n",
      "Epoch [22], last_lr: 0.00007, train_loss: 0.0006, val_loss: 8.6260, val_acc: 0.2178\n",
      "Epoch [23], last_lr: 0.00006, train_loss: 0.0005, val_loss: 8.6308, val_acc: 0.2183\n",
      "Epoch [24], last_lr: 0.00006, train_loss: 0.0005, val_loss: 8.6380, val_acc: 0.2178\n",
      "Epoch [25], last_lr: 0.00005, train_loss: 0.0005, val_loss: 8.6356, val_acc: 0.2173\n",
      "Epoch [26], last_lr: 0.00004, train_loss: 0.0004, val_loss: 8.6400, val_acc: 0.2188\n",
      "Epoch [27], last_lr: 0.00004, train_loss: 0.0004, val_loss: 8.6351, val_acc: 0.2202\n",
      "Epoch [28], last_lr: 0.00003, train_loss: 0.0004, val_loss: 8.6321, val_acc: 0.2197\n",
      "Epoch [29], last_lr: 0.00003, train_loss: 0.0004, val_loss: 8.6303, val_acc: 0.2192\n",
      "Epoch [30], last_lr: 0.00002, train_loss: 0.0004, val_loss: 8.6425, val_acc: 0.2192\n",
      "Epoch [31], last_lr: 0.00002, train_loss: 0.0004, val_loss: 8.6415, val_acc: 0.2197\n",
      "Epoch [32], last_lr: 0.00001, train_loss: 0.0004, val_loss: 8.6396, val_acc: 0.2197\n",
      "Epoch [33], last_lr: 0.00001, train_loss: 0.0004, val_loss: 8.6363, val_acc: 0.2197\n",
      "Epoch [34], last_lr: 0.00001, train_loss: 0.0004, val_loss: 8.6342, val_acc: 0.2197\n",
      "Epoch [35], last_lr: 0.00000, train_loss: 0.0004, val_loss: 8.6335, val_acc: 0.2207\n",
      "Epoch [36], last_lr: 0.00000, train_loss: 0.0004, val_loss: 8.6342, val_acc: 0.2207\n",
      "Epoch [37], last_lr: 0.00000, train_loss: 0.0004, val_loss: 8.6337, val_acc: 0.2207\n",
      "Epoch [38], last_lr: 0.00000, train_loss: 0.0004, val_loss: 8.6339, val_acc: 0.2207\n",
      "Epoch [39], last_lr: 0.00000, train_loss: 0.0004, val_loss: 8.6339, val_acc: 0.2207\n",
      "\n",
      "Training time:  443.00469694500134\n"
     ]
    }
   ],
   "source": [
    "start_time = time.perf_counter()\n",
    "history = fit_torch_model(epochs=40, lr=1e-4, \n",
    "                        model=model_torch, \n",
    "                        train_loader=train_loader, \n",
    "                        val_loader=val_loader, \n",
    "                        opt_func=torch.optim.Adam)\n",
    "\n",
    "print('\\nTraining time: ', time.perf_counter() - start_time)"
   ]
  },
  {
   "cell_type": "code",
   "execution_count": 1,
   "metadata": {},
   "outputs": [
    {
     "ename": "NameError",
     "evalue": "name 'model_torch' is not defined",
     "output_type": "error",
     "traceback": [
      "\u001B[0;31m---------------------------------------------------------------------------\u001B[0m",
      "\u001B[0;31mNameError\u001B[0m                                 Traceback (most recent call last)",
      "Cell \u001B[0;32mIn[1], line 2\u001B[0m\n\u001B[1;32m      1\u001B[0m \u001B[39m# save the model\u001B[39;00m\n\u001B[0;32m----> 2\u001B[0m model_torch\u001B[39m.\u001B[39msave(\u001B[39m'\u001B[39m\u001B[39mpretrained_resnet50_torch.pth\u001B[39m\u001B[39m'\u001B[39m)\n",
      "\u001B[0;31mNameError\u001B[0m: name 'model_torch' is not defined"
     ]
    }
   ],
   "source": [
    "# save the model\n",
    "model_torch.save('pretrained_resnet50_torch.pth')"
   ]
  },
  {
   "cell_type": "markdown",
   "metadata": {},
   "source": []
  },
  {
   "attachments": {},
   "cell_type": "markdown",
   "metadata": {},
   "source": [
    "### Evaluate on the test dataset"
   ]
  },
  {
   "cell_type": "code",
   "execution_count": 22,
   "metadata": {},
   "outputs": [
    {
     "name": "stdout",
     "output_type": "stream",
     "text": [
      "Baseline accuracy: 21.29%\n"
     ]
    }
   ],
   "source": [
    "test_acc = evaluate_torch_model(model_torch, test_loader)\n",
    "\n",
    "print(f'Baseline accuracy: {test_acc[\"val_acc\"]*100:.2f}%')"
   ]
  },
  {
   "attachments": {},
   "cell_type": "markdown",
   "metadata": {},
   "source": [
    "### Plot the accuracies and the losses "
   ]
  },
  {
   "cell_type": "code",
   "execution_count": 23,
   "metadata": {},
   "outputs": [],
   "source": [
    "def plot_accuracies(history):\n",
    "    accuracies = [x['val_acc'] for x in history]\n",
    "    plt.plot(accuracies, '-x')\n",
    "    plt.xlabel('epoch')\n",
    "    plt.ylabel('accuracy')\n",
    "    plt.title('Accuracy vs. No. of epochs')\n",
    "    \n",
    "\n",
    "\n",
    "def plot_losses(history):\n",
    "    train_losses = [x.get('train_loss') for x in history]\n",
    "    val_losses = [x['val_loss'] for x in history]\n",
    "    plt.plot(train_losses, '-bx')\n",
    "    plt.plot(val_losses, '-rx')\n",
    "    plt.xlabel('epoch')\n",
    "    plt.ylabel('loss')\n",
    "    plt.legend(['Training', 'Validation'])\n",
    "    plt.title('Loss vs. No. of epochs')"
   ]
  },
  {
   "cell_type": "code",
   "execution_count": 24,
   "metadata": {},
   "outputs": [
    {
     "data": {
      "image/png": "[encoded data removed]",
      "text/plain": [
       "<Figure size 640x480 with 1 Axes>"
      ]
     },
     "metadata": {},
     "output_type": "display_data"
    }
   ],
   "source": [
    "plot_accuracies(history)"
   ]
  },
  {
   "cell_type": "code",
   "execution_count": 25,
   "metadata": {},
   "outputs": [
    {
     "data": {
      "image/png": "[encoded data removed]",
      "text/plain": [
       "<Figure size 640x480 with 1 Axes>"
      ]
     },
     "metadata": {},
     "output_type": "display_data"
    }
   ],
   "source": [
    "plot_losses(history)"
   ]
  },
  {
   "cell_type": "code",
   "execution_count": null,
   "metadata": {},
   "outputs": [],
   "source": []
  },
  {
   "cell_type": "code",
   "execution_count": 18,
   "metadata": {
    "collapsed": false
   },
   "outputs": [
    {
     "data": {
      "text/plain": [
       "<module 'utils' from '/home/diaa/Face_Verification_Siamese_Network/utils.py'>"
      ]
     },
     "execution_count": 18,
     "metadata": {},
     "output_type": "execute_result"
    }
   ],
   "source": [
    "# Reload utils.py after making changes\n",
    "import importlib\n",
    "importlib.reload(utils)"
   ]
  }
 ],
 "metadata": {
  "kernelspec": {
   "display_name": "Python 3",
   "language": "python",
   "name": "python3"
  },
  "language_info": {
   "codemirror_mode": {
    "name": "ipython",
    "version": 3
   },
   "file_extension": ".py",
   "mimetype": "text/x-python",
   "name": "python",
   "nbconvert_exporter": "python",
   "pygments_lexer": "ipython3",
   "version": "3.10.10"
  }
 },
 "nbformat": 4,
 "nbformat_minor": 0
}
